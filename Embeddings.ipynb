{
 "cells": [
  {
   "cell_type": "code",
   "execution_count": 1,
   "id": "e7a4410f-27be-430b-b5ab-7ecaad8850d6",
   "metadata": {},
   "outputs": [
    {
     "name": "stdout",
     "output_type": "stream",
     "text": [
      "Running on device: cpu\n"
     ]
    }
   ],
   "source": [
    "from facenet_pytorch import MTCNN, InceptionResnetV1\n",
    "import torch\n",
    "from torch.utils.data import DataLoader\n",
    "from torchvision import datasets\n",
    "import pandas as pd\n",
    "import os\n",
    "device = torch.device('cuda:0' if torch.cuda.is_available() else 'cpu')\n",
    "print('Running on device: {}'.format(device))\n",
    "workers = 0 if os.name == 'nt' else 4"
   ]
  },
  {
   "cell_type": "code",
   "execution_count": 2,
   "id": "622dbf8c-9708-4a23-8964-bc0630909d52",
   "metadata": {},
   "outputs": [],
   "source": [
    "mtcnn = MTCNN(\n",
    "    image_size=160, margin=0, min_face_size=20,\n",
    "    thresholds=[0.6, 0.7, 0.7], factor=0.709, post_process=True,\n",
    "    device=device\n",
    ")\n",
    "resnet = InceptionResnetV1(pretrained='vggface2').eval().to(device)"
   ]
  },
  {
   "cell_type": "code",
   "execution_count": 3,
   "id": "d343f13b-4a3a-402f-bf9b-3c150d5f17b7",
   "metadata": {},
   "outputs": [
    {
     "name": "stdout",
     "output_type": "stream",
     "text": [
      "{0: 'Dwight', 1: 'Michael'}\n"
     ]
    }
   ],
   "source": [
    "from PIL import Image\n",
    "def collate_fn(x):\n",
    "    return x[0]\n",
    "\n",
    "dataset = datasets.ImageFolder('./images')\n",
    "print({i:c for c, i in dataset.class_to_idx.items()})\n",
    "dataset.idx_to_class = {i:c for c, i in dataset.class_to_idx.items()}\n",
    "loader = DataLoader(dataset, collate_fn=collate_fn, num_workers=workers)"
   ]
  },
  {
   "cell_type": "code",
   "execution_count": 4,
   "id": "984f7e8b-ba55-45d5-8a96-8d4b1dc8263b",
   "metadata": {},
   "outputs": [
    {
     "name": "stdout",
     "output_type": "stream",
     "text": [
      "Face detected with probability: 0.999847\n",
      "Face detected with probability: 0.999954\n",
      "Face detected with probability: 0.999962\n",
      "Face detected with probability: 0.999998\n"
     ]
    }
   ],
   "source": [
    "aligned = []\n",
    "names = []\n",
    "for x, y in loader:\n",
    "    x_aligned, prob = mtcnn(x, return_prob=True)\n",
    "    if x_aligned is not None:\n",
    "        print('Face detected with probability: {:8f}'.format(prob))\n",
    "        aligned.append(x_aligned)\n",
    "\n",
    "        names.append(dataset.idx_to_class[y])\n",
    "\n",
    "aligned = torch.stack(aligned).to(device)\n",
    "embeddings = resnet(aligned)"
   ]
  },
  {
   "cell_type": "code",
   "execution_count": 5,
   "id": "2841e820-5a55-4ca2-9f4a-91b7620b1d71",
   "metadata": {},
   "outputs": [
    {
     "name": "stdout",
     "output_type": "stream",
     "text": [
      "           Dwight    Dwight   Michael   Michael\n",
      "Dwight   0.000000  0.496898  1.555670  1.505317\n",
      "Dwight   0.496898  0.000000  1.494655  1.475376\n",
      "Michael  1.555670  1.494655  0.000000  0.511582\n",
      "Michael  1.505317  1.475376  0.511582  0.000000\n"
     ]
    }
   ],
   "source": [
    "dists = [[(e1 - e2).norm().item() for e2 in embeddings] for e1 in embeddings]\n",
    "print(pd.DataFrame(dists, columns=names, index=names))"
   ]
  },
  {
   "cell_type": "code",
   "execution_count": 6,
   "id": "9da9f23f-afcb-44d3-ac4f-fd092fdd6bd4",
   "metadata": {},
   "outputs": [
    {
     "name": "stdout",
     "output_type": "stream",
     "text": [
      "0.496898353099823 Dwight\n",
      "3.0352083513207617e-07 Dwight\n",
      "1.4946551322937012 Michael\n",
      "1.475375771522522 Michael\n"
     ]
    }
   ],
   "source": [
    "\n",
    "img = Image.open(\"images/Dwight/Dwight2.jpg\")\n",
    "\n",
    "# Get cropped and prewhitened image tensor\n",
    "img_cropped = mtcnn(img, save_path=\"out/Dwight2.jpg\")\n",
    "aligned = torch.stack([img_cropped]).to(device)\n",
    "# Calculate embedding (unsqueeze to add batch dimension)\n",
    "img_embedding = resnet(aligned)\n",
    "for embedding, name in zip(embeddings,names):\n",
    "    print((embedding-img_embedding[0]).norm().item(),name)"
   ]
  },
  {
   "cell_type": "code",
   "execution_count": null,
   "id": "2c15cc26-80e1-496d-bbe1-4fad0cbdc36a",
   "metadata": {},
   "outputs": [],
   "source": []
  }
 ],
 "metadata": {
  "kernelspec": {
   "display_name": "Python 3",
   "language": "python",
   "name": "python3"
  },
  "language_info": {
   "codemirror_mode": {
    "name": "ipython",
    "version": 3
   },
   "file_extension": ".py",
   "mimetype": "text/x-python",
   "name": "python",
   "nbconvert_exporter": "python",
   "pygments_lexer": "ipython3",
   "version": "3.7.9"
  }
 },
 "nbformat": 4,
 "nbformat_minor": 5
}
