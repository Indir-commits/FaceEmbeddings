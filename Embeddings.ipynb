{
 "cells": [
  {
   "cell_type": "code",
   "execution_count": 1,
   "id": "e7a4410f-27be-430b-b5ab-7ecaad8850d6",
   "metadata": {},
   "outputs": [
    {
     "name": "stdout",
     "output_type": "stream",
     "text": [
      "Running on device: cpu\n"
     ]
    }
   ],
   "source": [
    "from facenet_pytorch import MTCNN, InceptionResnetV1\n",
    "import torch\n",
    "from torch.utils.data import DataLoader\n",
    "from torchvision import datasets\n",
    "import pandas as pd\n",
    "import os\n",
    "device = torch.device('cuda:0' if torch.cuda.is_available() else 'cpu')\n",
    "print('Running on device: {}'.format(device))\n",
    "workers = 0 if os.name == 'nt' else 4"
   ]
  },
  {
   "cell_type": "code",
   "execution_count": 2,
   "id": "35d06b0e-6069-4a3b-9593-3ef44ae73c27",
   "metadata": {},
   "outputs": [],
   "source": [
    "def calculate_dist(embeddings):\n",
    "    dists = [[(e1 - e2).norm().item() for e2 in embeddings] for e1 in embeddings]\n",
    "    print(pd.DataFrame(dists, columns=names, index=names))\n",
    "\n",
    "def im_test(im_path,embedder):\n",
    "    img = Image.open(im_path)\n",
    "\n",
    "    img_cropped = mtcnn(img)\n",
    "    aligned = torch.stack([img_cropped]).to(device)\n",
    "\n",
    "    img_embedding = embedder(aligned)\n",
    "    for embedding, name in zip(embeddings,names):\n",
    "        print((embedding-img_embedding[0]).norm().item(),name)"
   ]
  },
  {
   "cell_type": "code",
   "execution_count": 3,
   "id": "622dbf8c-9708-4a23-8964-bc0630909d52",
   "metadata": {},
   "outputs": [],
   "source": [
    "mtcnn = MTCNN(\n",
    "    image_size=160, margin=0, min_face_size=20,\n",
    "    thresholds=[0.6, 0.7, 0.7], factor=0.709, post_process=True,\n",
    "    device=device\n",
    ")\n"
   ]
  },
  {
   "cell_type": "code",
   "execution_count": 4,
   "id": "7ba6494e-0c4c-4a34-8852-acf0016aed33",
   "metadata": {},
   "outputs": [],
   "source": [
    "resnet = InceptionResnetV1(pretrained='vggface2').eval().to(device)"
   ]
  },
  {
   "cell_type": "code",
   "execution_count": 5,
   "id": "d343f13b-4a3a-402f-bf9b-3c150d5f17b7",
   "metadata": {},
   "outputs": [
    {
     "name": "stdout",
     "output_type": "stream",
     "text": [
      "{0: 'Dwight', 1: 'Michael'}\n"
     ]
    }
   ],
   "source": [
    "from PIL import Image\n",
    "def collate_fn(x):\n",
    "    return x[0]\n",
    "\n",
    "dataset = datasets.ImageFolder('./images')\n",
    "print({i:c for c, i in dataset.class_to_idx.items()})\n",
    "dataset.idx_to_class = {i:c for c, i in dataset.class_to_idx.items()}\n",
    "loader = DataLoader(dataset, collate_fn=collate_fn, num_workers=workers)"
   ]
  },
  {
   "cell_type": "code",
   "execution_count": 6,
   "id": "984f7e8b-ba55-45d5-8a96-8d4b1dc8263b",
   "metadata": {},
   "outputs": [
    {
     "name": "stdout",
     "output_type": "stream",
     "text": [
      "Face detected with probability: 0.999847\n",
      "Face detected with probability: 0.999954\n",
      "Face detected with probability: 0.999962\n",
      "Face detected with probability: 0.999998\n"
     ]
    }
   ],
   "source": [
    "aligned = []\n",
    "names = []\n",
    "for x, y in loader:\n",
    "    x_aligned, prob = mtcnn(x, return_prob=True)\n",
    "    if x_aligned is not None:\n",
    "        print('Face detected with probability: {:8f}'.format(prob))\n",
    "        aligned.append(x_aligned)\n",
    "\n",
    "        names.append(dataset.idx_to_class[y])\n",
    "\n",
    "aligned = torch.stack(aligned).to(device)\n",
    "embeddings = resnet(aligned)"
   ]
  },
  {
   "cell_type": "code",
   "execution_count": 7,
   "id": "2841e820-5a55-4ca2-9f4a-91b7620b1d71",
   "metadata": {},
   "outputs": [
    {
     "name": "stdout",
     "output_type": "stream",
     "text": [
      "           Dwight    Dwight   Michael   Michael\n",
      "Dwight   0.000000  0.496898  1.555670  1.505317\n",
      "Dwight   0.496898  0.000000  1.494655  1.475376\n",
      "Michael  1.555670  1.494655  0.000000  0.511582\n",
      "Michael  1.505317  1.475376  0.511582  0.000000\n"
     ]
    }
   ],
   "source": [
    "calculate_dist(embeddings)"
   ]
  },
  {
   "cell_type": "code",
   "execution_count": 8,
   "id": "9da9f23f-afcb-44d3-ac4f-fd092fdd6bd4",
   "metadata": {},
   "outputs": [
    {
     "name": "stdout",
     "output_type": "stream",
     "text": [
      "1.5053170919418335 Dwight\n",
      "1.4753758907318115 Dwight\n",
      "0.5115817785263062 Michael\n",
      "2.8422968512131774e-07 Michael\n"
     ]
    }
   ],
   "source": [
    "im_test(\"images/Michael/Michael2.jpg\",resnet)\n"
   ]
  },
  {
   "cell_type": "code",
   "execution_count": 9,
   "id": "1447c878-8eba-478d-abaf-70af417a612a",
   "metadata": {},
   "outputs": [],
   "source": [
    "import torch\n",
    "from imageio import imread\n",
    "from torchvision import transforms\n",
    "\n",
    "import insightface"
   ]
  },
  {
   "cell_type": "code",
   "execution_count": 10,
   "id": "f954c8b1-b50e-4d7e-ac5f-7ac6da97092d",
   "metadata": {},
   "outputs": [
    {
     "name": "stdout",
     "output_type": "stream",
     "text": [
      "Face detected with probability: 0.999847\n",
      "Face detected with probability: 0.999954\n",
      "Face detected with probability: 0.999962\n",
      "Face detected with probability: 0.999998\n"
     ]
    }
   ],
   "source": [
    "mtcnn = MTCNN(\n",
    "    image_size=112, margin=0, min_face_size=20,\n",
    "    thresholds=[0.6, 0.7, 0.7], factor=0.709, post_process=True,\n",
    "    device=device\n",
    ")\n",
    "embedder = insightface.iresnet100(pretrained=True)\n",
    "embedder.eval()\n",
    "\n",
    "mean = [0.5] * 3\n",
    "std = [0.5 * 256 / 255] * 3\n",
    "preprocess = transforms.Compose([\n",
    " \n",
    "    transforms.Normalize(mean, std)\n",
    "])\n",
    "\n",
    "aligned = []\n",
    "names = []\n",
    "for x, y in loader:\n",
    "    x_aligned, prob = mtcnn(x, return_prob=True)\n",
    "    \n",
    "#     x_aligned = preprocess(x_aligned)\n",
    "    if x_aligned is not None:\n",
    "        print('Face detected with probability: {:8f}'.format(prob))\n",
    "        aligned.append(x_aligned)\n",
    "\n",
    "        names.append(dataset.idx_to_class[y])\n",
    "\n",
    "aligned = torch.stack(aligned).to(device)\n",
    "\n",
    "embeddings = embedder(aligned)\n"
   ]
  },
  {
   "cell_type": "code",
   "execution_count": 11,
   "id": "4584a7d6-9d0d-4160-b895-33ad1708ea59",
   "metadata": {},
   "outputs": [
    {
     "name": "stdout",
     "output_type": "stream",
     "text": [
      "            Dwight     Dwight    Michael    Michael\n",
      "Dwight    0.000000  16.780432  33.451622  33.817474\n",
      "Dwight   16.780432   0.000000  31.507275  31.206282\n",
      "Michael  33.451622  31.507275   0.000000  20.835302\n",
      "Michael  33.817474  31.206282  20.835302   0.000000\n"
     ]
    }
   ],
   "source": [
    "calculate_dist(embeddings)"
   ]
  },
  {
   "cell_type": "code",
   "execution_count": 12,
   "id": "969d714c-5527-4410-8b3a-ba5e7bc2c0a4",
   "metadata": {
    "tags": []
   },
   "outputs": [
    {
     "name": "stdout",
     "output_type": "stream",
     "text": [
      "33.81747817993164 Dwight\n",
      "31.206281661987305 Dwight\n",
      "20.83530044555664 Michael\n",
      "6.191942247824045e-06 Michael\n"
     ]
    }
   ],
   "source": [
    "im_test(\"images/Michael/Michael2.jpg\",embedder)"
   ]
  },
  {
   "cell_type": "code",
   "execution_count": null,
   "id": "38c72c8a-869e-49f9-8ba8-76355fd7cd57",
   "metadata": {},
   "outputs": [],
   "source": []
  }
 ],
 "metadata": {
  "kernelspec": {
   "display_name": "Python 3",
   "language": "python",
   "name": "python3"
  },
  "language_info": {
   "codemirror_mode": {
    "name": "ipython",
    "version": 3
   },
   "file_extension": ".py",
   "mimetype": "text/x-python",
   "name": "python",
   "nbconvert_exporter": "python",
   "pygments_lexer": "ipython3",
   "version": "3.7.9"
  }
 },
 "nbformat": 4,
 "nbformat_minor": 5
}
